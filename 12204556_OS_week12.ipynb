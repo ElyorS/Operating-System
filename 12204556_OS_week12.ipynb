{
  "nbformat": 4,
  "nbformat_minor": 0,
  "metadata": {
    "colab": {
      "provenance": [],
      "authorship_tag": "ABX9TyMUM0L3yn9J3tZ5OBq5lgdf",
      "include_colab_link": true
    },
    "kernelspec": {
      "name": "python3",
      "display_name": "Python 3"
    },
    "language_info": {
      "name": "python"
    }
  },
  "cells": [
    {
      "cell_type": "markdown",
      "metadata": {
        "id": "view-in-github",
        "colab_type": "text"
      },
      "source": [
        "<a href=\"https://colab.research.google.com/github/ElyorS/Operating-System/blob/main/12204556_OS_week12.ipynb\" target=\"_parent\"><img src=\"https://colab.research.google.com/assets/colab-badge.svg\" alt=\"Open In Colab\"/></a>"
      ]
    },
    {
      "cell_type": "code",
      "execution_count": 2,
      "metadata": {
        "colab": {
          "base_uri": "https://localhost:8080/"
        },
        "id": "vi-uNajdQ0Wy",
        "outputId": "968271f9-191a-440a-f114-8fdda176a03c"
      },
      "outputs": [
        {
          "output_type": "stream",
          "name": "stdout",
          "text": [
            "Overwriting learning_script.sh\n"
          ]
        }
      ],
      "source": [
        "%%writefile   learning_script.sh\n",
        "#!/bin/bash\n",
        "# Welcome message\n",
        "echo \"Welcome to the Command Line Learning Script!\" sleep 2\n",
        "# Function to check user input\n",
        "check_command() {\n",
        "  while true; do\n",
        "    read -p \"$1\" cmd\n",
        "    if eval \"$cmd\"; then\n",
        "echo \"Correct! Moving to the next command.\"\n",
        "break else\n",
        "echo \"That's not correct. Try again.\" fi\n",
        "done }\n",
        "# Introduce 'pwd' command\n",
        "echo \"Let's start with finding out our current directory.\" echo \"Type the command that prints the working directory.\" check_command \"Your command: \"\n",
        "# Introduce 'ls' command\n",
        "echo \"Now, let's list the contents of this directory.\" echo \"Type the command that lists the contents.\" check_command \"Your command: \"\n",
        "# Introduce 'cd' command\n",
        "echo \"Next, we'll change our current directory.\"\n",
        "echo \"Type the command to change directory to your home directory.\" check_command \"Your command: \"\n",
        "# Introduce 'cat' command\n",
        "echo \"Let's display the contents of a file.\"\n",
        "echo \"First, use 'ls' to find a file in this directory.\" check_command \"Your command: \"\n",
        "echo \"Now, display the contents of a file using 'cat'.\" check_command \"Your command: \"\n",
        "# Completion message\n",
        "echo \"Congratulations! You've completed the basic command line tutorial.\"\n",
        "Writing learning_script.sh\n",
        "!bash learning_script.sh\n"
      ]
    },
    {
      "cell_type": "code",
      "source": [
        "%%writefile  config_mgmt_learning_ver1.sh\n",
        "#!/bin/bash\n",
        "# Function to check if a command was successful\n",
        "check_success() {\n",
        "    if [ $? -ne 0 ]; then\n",
        "echo \"An error occurred. Exiting...\"\n",
        "exit 1 fi\n",
        "}\n",
        "# Function to install a package if it's not already installed\n",
        "install_package() {\n",
        "    echo \"Checking for $1...\"\n",
        "    if ! dpkg -l | grep -q \"$1\"; then\n",
        "cat learning_script.sh\n",
        "cat learning_script.sh\n",
        "echo \"Installing $1...\"\n",
        "        sudo apt-get install -y $1\n",
        "        check_success\n",
        "else\n",
        "echo \"$1 is already installed.\" fi\n",
        "}\n",
        "# Welcome message\n",
        "echo \"Welcome to the Configuration Management Learning Script!\" sleep 2\n",
        "# Update package list\n",
        "echo \"Updating package list...\"\n",
        "sudo apt-get update\n",
        "check_success\n",
        "# Install Apache Web Server\n",
        "install_package apache2\n",
        "# Enable and start Apache service\n",
        "echo \"Enabling and starting Apache...\" sudo systemctl enable apache2\n",
        "sudo systemctl start apache2 check_success\n",
        "# Create a sample web page\n",
        "echo \"Creating a sample web page...\"\n",
        "echo \"<html><body><h1>Hello from $(hostname)</h1></body></html>\" | sudo tee /var/www/html/index.html\n",
        "check_success\n",
        "# Completion message\n",
        "echo \"Configuration complete. Visit http://$(hostname -I | awk '{print $1}') in your browser.\"\n",
        "Writing config_mgmt_learning_ver1.sh\n",
        "!chmod +x config_mgmt_learning_ver1.sh\n",
        "!bash config_mgmt_learning_ver1.sh"
      ],
      "metadata": {
        "colab": {
          "base_uri": "https://localhost:8080/"
        },
        "id": "Sr8NCjh-Re7T",
        "outputId": "d6f77768-543c-4716-fbb0-782ed071e9e2"
      },
      "execution_count": 3,
      "outputs": [
        {
          "output_type": "stream",
          "name": "stdout",
          "text": [
            "Writing config_mgmt_learning_ver1.sh\n"
          ]
        }
      ]
    },
    {
      "cell_type": "code",
      "source": [
        "%%writefile advanced_config_mgmt.sh\n",
        "#!/bin/bash\n",
        "# Function to check if a command was successful\n",
        "check_success() {\n",
        "    if [ $? -ne 0 ]; then\n",
        "echo \"An error occurred. Exiting...\"\n",
        "exit 1 fi\n",
        "}\n",
        "# Function to install a package if it's not already installed\n",
        "install_package() {\n",
        "    echo \"Checking for $1...\"\n",
        "    if ! dpkg -l | grep -q \"$1\"; then\n",
        "        echo \"Installing $1...\"\n",
        "        sudo apt-get install -y $1\n",
        "        check_success\n",
        "else\n",
        "echo \"$1 is already installed.\" fi\n",
        "}\n",
        "# Setting up environment variables\n",
        "setup_environment() {\n",
        "echo \"Setting up environment variables...\"\n",
        "export MY_ENV_VAR=\"MyValue\"\n",
        "echo \"Environment variable MY_ENV_VAR set to $MY_ENV_VAR\"\n",
        "}\n",
        "# Creating a new user (if not already exists)\n",
        "create_user() {\n",
        "local username=$1\n",
        "echo \"Creating a new user: $username\" if ! id \"$username\" &>/dev/null; then\n",
        "sudo useradd -m -s /bin/bash \"$username\"\n",
        "check_success\n",
        "        echo \"User $username created.\"\n",
        "    else\n",
        "echo \"User $username already exists.\" fi\n",
        "}\n",
        "# Advanced package management\n",
        "advanced_package_management() {\n",
        "echo \"Adding a PPA and installing a package from it...\" sudo add-apt-repository ppa:deadsnakes/ppa -y check_success\n",
        "install_package python3.8\n",
        "}\n",
        "# Setting up a Python environment\n",
        "setup_python_environment() {\n",
        "echo \"Setting up Python environment...\"\n",
        "sudo apt-get install -y python3-pip python3-venv\n",
        "check_success\n",
        "python3 -m venv myenv\n",
        "source myenv/bin/activate\n",
        "pip install numpy pandas\n",
        "echo \"Python environment set up with numpy and pandas installed.\"\n",
        "}\n",
        "# Main program\n",
        "main() {\n",
        "echo \"Starting advanced configuration management script...\" sleep 2\n",
        "    # Update package list\n",
        "    echo \"Updating package list...\"\n",
        "    sudo apt-get update\n",
        "    check_success\n",
        "    setup_environment\n",
        "    create_user \"newuser\"\n",
        "    advanced_package_management\n",
        "    setup_python_environment\n",
        "echo \"Configuration management tasks completed.\" }\n",
        "main\n",
        "Writing advanced_config_mgmt.sh\n",
        "!bash advanced_config_mgmt.sh"
      ],
      "metadata": {
        "colab": {
          "base_uri": "https://localhost:8080/"
        },
        "id": "si5BOUwWRhHK",
        "outputId": "f3c06fe3-7db8-413b-913a-285cb8a3ebac"
      },
      "execution_count": 4,
      "outputs": [
        {
          "output_type": "stream",
          "name": "stdout",
          "text": [
            "Writing advanced_config_mgmt.sh\n"
          ]
        }
      ]
    },
    {
      "cell_type": "code",
      "source": [
        "%%writefile advanced_config_mgmt_ver2.sh\n",
        "#!/bin/bash\n",
        "# Function to check if a command was successful\n",
        "check_success() {\n",
        "    if [ $? -ne 0 ]; then\n",
        "echo \"An error occurred. Exiting...\"\n",
        "       exit 1 fi\n",
        "}\n",
        "# Function to install a package if it's not already installed\n",
        "install_package() {\n",
        "    echo \"Checking for $1...\"\n",
        "    if ! dpkg -l | grep -q \"$1\"; then\n",
        "        echo \"Installing $1...\"\n",
        "        sudo apt-get install -y $1\n",
        "        check_success\n",
        "else\n",
        "echo \"$1 is already installed.\" fi\n",
        "}\n",
        "# Setting up environment variables\n",
        "setup_environment() {\n",
        "echo \"Setting up environment variables...\"\n",
        "export MY_ENV_VAR=\"MyValue\"\n",
        "echo \"Environment variable MY_ENV_VAR set to $MY_ENV_VAR\"\n",
        "}\n",
        "# Creating a new user (if not already exists)\n",
        "create_user() {\n",
        "local username=$1\n",
        "echo \"Creating a new user: $username\" if ! id \"$username\" &>/dev/null; then\n",
        "sudo useradd -m -s /bin/bash \"$username\" check_success\n",
        "echo \"User $username created.\"\n",
        "else\n",
        "echo \"User $username already exists.\" fi\n",
        "}\n",
        "# Advanced package management\n",
        "advanced_package_management() {\n",
        "echo \"Adding a PPA and installing a package from it...\" sudo add-apt-repository ppa:deadsnakes/ppa -y check_success\n",
        "install_package python3.8\n",
        "}\n",
        "# Setting up a Python environment\n",
        "setup_python_environment() {\n",
        "echo \"Setting up Python environment...\"\n",
        "sudo apt-get install -y python3-pip python3-venv check_success\n",
        "python3 -m venv myenv\n",
        "\n",
        "       source myenv/bin/activate\n",
        "pip install numpy pandas\n",
        "echo \"Python environment set up with numpy and pandas installed.\"\n",
        "}\n",
        "# Set up a cron job\n",
        "setup_cron_job() {\n",
        "echo \"Setting up a cron job to run a script daily...\" # Write out current crontab\n",
        "crontab -l > mycron\n",
        "# Echo new cron into cron file\n",
        "echo \"0 0 * * * /path/to/daily_task.sh\" >> mycron\n",
        "# Install new cron file\n",
        "crontab mycron\n",
        "rm mycron\n",
        "echo \"Cron job set up.\"\n",
        "}\n",
        "# Cloning a repository from GitHub\n",
        "clone_repository() {\n",
        "echo \"Cloning a repository from GitHub...\"\n",
        "git clone https://github.com/exampleuser/example-repo.git check_success\n",
        "echo \"Repository cloned.\"\n",
        "}\n",
        "# Creating a symbolic link\n",
        "create_symbolic_link() {\n",
        "echo \"Creating a symbolic link...\" ln -s /path/to/file /path/to/symlink check_success\n",
        "echo \"Symbolic link created.\"\n",
        "}\n",
        "# Main program\n",
        "main() {\n",
        "echo \"Starting advanced configuration management script...\" sleep 2\n",
        "    # Update package list\n",
        "    echo \"Updating package list...\"\n",
        "    sudo apt-get update\n",
        "    check_success\n",
        "    setup_environment\n",
        "    create_user \"newuser\"\n",
        "    advanced_package_management\n",
        "    setup_python_environment\n",
        "    setup_cron_job\n",
        "    clone_repository\n",
        "\n",
        "create_symbolic_link\n",
        "echo \"Configuration management tasks completed.\" }\n",
        "main\n",
        "Writing advanced_config_mgmt_ver2.sh\n",
        "!bash advanced_config_mgmt_ver2.sh"
      ],
      "metadata": {
        "colab": {
          "base_uri": "https://localhost:8080/"
        },
        "id": "lDIc4ZJbTfn7",
        "outputId": "8713a26b-107d-4690-d793-80455755b0b6"
      },
      "execution_count": 5,
      "outputs": [
        {
          "output_type": "stream",
          "name": "stdout",
          "text": [
            "Writing advanced_config_mgmt_ver2.sh\n"
          ]
        }
      ]
    }
  ]
}