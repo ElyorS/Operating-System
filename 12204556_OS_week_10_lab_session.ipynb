{
  "nbformat": 4,
  "nbformat_minor": 0,
  "metadata": {
    "colab": {
      "provenance": [],
      "authorship_tag": "ABX9TyNALh+gyThJBPghFuBanGi+",
      "include_colab_link": true
    },
    "kernelspec": {
      "name": "python3",
      "display_name": "Python 3"
    },
    "language_info": {
      "name": "python"
    }
  },
  "cells": [
    {
      "cell_type": "markdown",
      "metadata": {
        "id": "view-in-github",
        "colab_type": "text"
      },
      "source": [
        "<a href=\"https://colab.research.google.com/github/ElyorS/Operating-System/blob/main/12204556_OS_week_10_lab_session.ipynb\" target=\"_parent\"><img src=\"https://colab.research.google.com/assets/colab-badge.svg\" alt=\"Open In Colab\"/></a>"
      ]
    },
    {
      "cell_type": "code",
      "execution_count": 1,
      "metadata": {
        "colab": {
          "base_uri": "https://localhost:8080/"
        },
        "id": "CimiYoIHLvVj",
        "outputId": "8722c7cd-9911-4d28-feb0-0472ad9bcfa6"
      },
      "outputs": [
        {
          "output_type": "stream",
          "name": "stdout",
          "text": [
            "Writing lab_session.sh\n"
          ]
        }
      ],
      "source": [
        "%%writefile lab_session.sh\n",
        "#1/bin/bash\n",
        "# Lab Session: Analyzing and Storing Logs and Archiving Files\n",
        "# This script demonstrates how to work with system logs and archive/copy files in Ubuntu.\n",
        "\n",
        "# Part 1: Analyzing and Storing Logs\n",
        "\n",
        "# Step 1: View System Logs\n",
        "echo \"Step 1: Viewing System Logs\"\n",
        "cat /var/log/syslog\n",
        "echo \"*\n",
        "\n",
        "# Step 2: Filter Logs for SSH Connections\n",
        "echo \"Step 2: Filtering Logs for SSH Connections\"\n",
        "cat /var/log/syslog | grep ssh\n",
        "echo \"\"\n",
        "\n",
        "# Step 3: Store Filtered Logs in a File\n",
        "echo \"Step 3: Storing Filtered Logs in ssh_logs. txt\"\n",
        "cat /var/log/syslog | grep ssh › ssh_logs.txt\n",
        "echo \"Filtered logs stored in ssh_logs. txt\"\n",
        "echo \"\"\n",
        "\n",
        "# Step 4: Create Sample Files\n",
        "echo \"Step 4: Creating Sample Files\" touch file1.txt file2.txt file3.txt\n",
        "echo \"Sample files created: file1.txt, file2.txt, file3.txt\"\n",
        "echo \"\"\n",
        "\n",
        "# Step 5: Archive Files with tar\n",
        "echo \"Step 5: Archiving Files with tar\"\n",
        "tar -czvf my_archive.tar.gz file1.txt file2.txt file3.txt\n",
        "echo \"Files archived in my_archive. tar-gz\"\n",
        "\n",
        "# Step 6: Copy the Archive to Home Directory\n",
        "echo \"Step 6: Copying the Archive to Home Directory\"\n",
        "cp my_archive.tar.gz ~/my_archive.tar.gz\n",
        "echo \"Archive copied to home directory\"\n",
        "echo \"\"\n",
        "\n",
        "\n",
        "# Step 7: Extract Files from the Archive\n",
        "echo \"Step 7: Extracting Files from the Archive\"\n",
        "tar -xzvf my_archive.tar. gz\n",
        "echo \"Files extracted from the archive\"\n",
        "echo \"\"\n",
        "\n",
        "# Conclusion\n",
        "echo \"Conclusion: You've learned how to analyze and store system logs and how archive and copy files using the tar command\n",
        "\n"
      ]
    },
    {
      "cell_type": "code",
      "source": [
        "!chmod +x lab_session.sh\n",
        "!./lab_session.sh"
      ],
      "metadata": {
        "id": "kbGt8GfRUDFI"
      },
      "execution_count": 3,
      "outputs": []
    }
  ]
}