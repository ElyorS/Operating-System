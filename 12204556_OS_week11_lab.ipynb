{
  "nbformat": 4,
  "nbformat_minor": 0,
  "metadata": {
    "colab": {
      "provenance": [],
      "authorship_tag": "ABX9TyNRwM1pOGe+L0w4i2w6gtqh",
      "include_colab_link": true
    },
    "kernelspec": {
      "name": "python3",
      "display_name": "Python 3"
    },
    "language_info": {
      "name": "python"
    }
  },
  "cells": [
    {
      "cell_type": "markdown",
      "metadata": {
        "id": "view-in-github",
        "colab_type": "text"
      },
      "source": [
        "<a href=\"https://colab.research.google.com/github/ElyorS/Operating-System/blob/main/12204556_OS_week11_lab.ipynb\" target=\"_parent\"><img src=\"https://colab.research.google.com/assets/colab-badge.svg\" alt=\"Open In Colab\"/></a>"
      ]
    },
    {
      "cell_type": "code",
      "source": [
        "# Example 1:\n",
        "import subprocess\n",
        "\n",
        "def list_storage_devices():\n",
        "     command = \"lsblk\"\n",
        "     result = subprocess.run(command, shell=True, stdout=subprocess.PIPE, text=True)\n",
        "     print(result.stdout)\n",
        "\n",
        "list_storage_devices()"
      ],
      "metadata": {
        "colab": {
          "base_uri": "https://localhost:8080/"
        },
        "id": "54LDcr2TS1C-",
        "outputId": "4e44158e-6d68-4c0e-a741-81e610d611cd"
      },
      "execution_count": 3,
      "outputs": [
        {
          "output_type": "stream",
          "name": "stdout",
          "text": [
            "NAME    MAJ:MIN RM  SIZE RO TYPE MOUNTPOINTS\n",
            "loop0     7:0    0  110G  0 loop \n",
            "sda       8:0    0   48G  0 disk \n",
            "├─sda1    8:1    0 43.8G  0 part /etc/hosts\n",
            "│                                /etc/hostname\n",
            "│                                /etc/resolv.conf\n",
            "├─sda2    8:2    0   16M  0 part \n",
            "├─sda3    8:3    0    2G  0 part \n",
            "├─sda4    8:4    0   16M  0 part \n",
            "├─sda5    8:5    0    2G  0 part \n",
            "├─sda6    8:6    0  512B  0 part \n",
            "├─sda7    8:7    0  512B  0 part \n",
            "├─sda8    8:8    0   16M  0 part \n",
            "├─sda9    8:9    0  512B  0 part \n",
            "├─sda10   8:10   0  512B  0 part \n",
            "├─sda11   8:11   0    8M  0 part \n",
            "└─sda12   8:12   0   32M  0 part \n",
            "\n"
          ]
        }
      ]
    },
    {
      "cell_type": "code",
      "source": [
        "# Example 2: Check available disk space on a specific storage device\n",
        "import subprocess\n",
        "\n",
        "def check_disk_space(device):\n",
        "  command = f\"df -h {device}\"\n",
        "  result = subprocess.run(command, shell=True, stdout=subprocess.PIPE, text=True)\n",
        "  print(result.stdout)\n",
        "\n",
        "check_disk_space(\"/dev/sd1\")"
      ],
      "metadata": {
        "colab": {
          "base_uri": "https://localhost:8080/"
        },
        "id": "602T0wtuTCrC",
        "outputId": "96a59ad1-4c25-45b6-985e-ba567bba9b63"
      },
      "execution_count": 5,
      "outputs": [
        {
          "output_type": "stream",
          "name": "stdout",
          "text": [
            "\n"
          ]
        }
      ]
    },
    {
      "cell_type": "code",
      "source": [
        "# Example 3: Mount a storage device\n",
        "import subprocess\n",
        "def mount_device (device, mount_point):\n",
        "    command = f\"sudo mount {device} {mount_point}\"\n",
        "    result = subprocess.run(command, shell=True, stdout=subprocess.PIPE, text=True)\n",
        "    print(result.stdout)\n",
        "\n",
        "mount_device(\"/dev/sdb1\", \"/mnt/mydisk\")"
      ],
      "metadata": {
        "colab": {
          "base_uri": "https://localhost:8080/"
        },
        "id": "Q5RYUD1JUO1K",
        "outputId": "1f58ee20-88c9-45ca-9952-4a4bc17deff9"
      },
      "execution_count": 4,
      "outputs": [
        {
          "output_type": "stream",
          "name": "stdout",
          "text": [
            "\n"
          ]
        }
      ]
    },
    {
      "cell_type": "code",
      "source": [
        "# Example 4: Format a storage device (WARNING: Data loss can occur)\n",
        "\n",
        "import subprocess\n",
        "\n",
        "def format_device (device, filesystem_type):\n",
        "    command = f\"sudo mkfs.{filesystem_type} {device}\"\n",
        "    result = subprocess.run(command, shell=True, stdout=subprocess.PIPE, text=True)\n",
        "    print(result.stdout)\n",
        "\n",
        "# Be cautious when using this function, as it will erase data on the device.\n",
        "#format_device(\"/dev/sdc1\", \"ext4\")"
      ],
      "metadata": {
        "id": "YTTfFK9SaHPd"
      },
      "execution_count": 7,
      "outputs": []
    },
    {
      "cell_type": "code",
      "source": [
        "#Example 5: Unmount a storage device import subprocess\n",
        "def unmount_device(mount_point):\n",
        "    command = f\"sudo umount {mount_point}\"\n",
        "    result = subprocess. run(command, shell=True, stdout=subprocess.PIPE, text=True)\n",
        "    print (result.stdout)\n",
        "\n",
        "unmount_device(\"/mnt/mydisk\")"
      ],
      "metadata": {
        "colab": {
          "base_uri": "https://localhost:8080/"
        },
        "id": "wa56tXppXEhx",
        "outputId": "706d839a-01ff-4872-9525-b414da412893"
      },
      "execution_count": 6,
      "outputs": [
        {
          "output_type": "stream",
          "name": "stdout",
          "text": [
            "\n"
          ]
        }
      ]
    },
    {
      "cell_type": "code",
      "source": [
        "# Example 6: List mounted storage devices\n",
        "\n",
        "def list_mounted_devices ():\n",
        "  # Run the 'mount' command with grep to list mounted storage devices and store the result\n",
        "    command = \"mount | grep '/dev/sd'\"\n",
        "    result = subprocess.run(command, shell=True, stdout=subprocess.PIPE, text=True)\n",
        "    # Print the ourput of the command\n",
        "    print(result.stdout)"
      ],
      "metadata": {
        "id": "dMV4rL5_b7P_"
      },
      "execution_count": 10,
      "outputs": []
    },
    {
      "cell_type": "code",
      "source": [
        "# Example 7: Check disk usage of a directory\n",
        "def check_directory_disk_usage (directory):\n",
        "# Run the du' command to check disk usage of a directory and store the result\n",
        "    command = f\"du -sh {directory}\"\n",
        "    result = subprocess.run(command, shell=True, stdout=subprocess.PIPE, text=True)\n",
        "    # Print the output of the command\n",
        "    print(result.stdout)"
      ],
      "metadata": {
        "id": "hjDjsriOaJGD"
      },
      "execution_count": 8,
      "outputs": []
    },
    {
      "cell_type": "code",
      "source": [
        "# Example 8: Create a new directory\n",
        "def create_directory(directory):\n",
        "# Run the 'mkdir' command to create a new directory and store the result\n",
        "    command = f\"mkdir {directory}\"\n",
        "    result = subprocess. run(command, shell=True, stdout=subprocess.PIPE, text=True)\n",
        "    # Print the output of the command\n",
        "    print(result.stdout)"
      ],
      "metadata": {
        "id": "FjcKrZkWbrZ6"
      },
      "execution_count": 14,
      "outputs": []
    },
    {
      "cell_type": "code",
      "source": [
        "# Example 9: Remove a directory (WARNING: Irreversible deletion)\n",
        "\n",
        "def remove_directory(directory):\n",
        "  # Run the 'rm' command to remove a directory (use with caution, irreversible) and store the result\n",
        "    command = f\"sudo rm -r {directory}\"\n",
        "    result = subprocess.run(command, shell=True, stdout=subprocess.PIPE, text=True)\n",
        "    # Print the output of the command\n",
        "    print(result.stdout)"
      ],
      "metadata": {
        "id": "1wFJd-9sc79O"
      },
      "execution_count": 12,
      "outputs": []
    },
    {
      "cell_type": "code",
      "source": [
        "# Example 10: Get storage device information\n",
        "def get_device_info(device):\n",
        "    # Run the rudevadm' command to get information about a device and store the result\n",
        "    command = f\"udevadm info -q property -n {device}\"\n",
        "    result = subprocess.run (command, shell=True, stdout=subprocess.PIPE, text=True)\n",
        "    # Print the output of the command\n",
        "    print(result.stdout)"
      ],
      "metadata": {
        "id": "wQD5IL3ecvu4"
      },
      "execution_count": 16,
      "outputs": []
    },
    {
      "cell_type": "code",
      "source": [
        "# Main test part (Usage of the functions)\n",
        "if __name__ == \"__main__\":\n",
        "# Test each function with appropriate parameters\n",
        "    list_storage_devices()\n",
        "    check_disk_space (\"/dev/sdal\")\n",
        "    mount_device(\"/dev/sdb1\", \"/mnt/mydisk\")\n",
        "    # Be cautious with the following line, as it erases data on the device\n",
        "    # format_device(\"/dev/sdc1\", \"ext4\")\n",
        "    unmount_device(\"/mnt/mydisk\")\n",
        "    list_mounted_devices()\n",
        "    check_directory_disk_usage(\"/home/user/documents\")\n",
        "    create_directory(\"/tmp/new_directory\")\n",
        "    # Be cautious with the following line, as it's an irreversible deletion\n",
        "    # remove directory(\"/tmp/new _directory\")\n",
        "    get_device_info(\"/dev/sdal\")"
      ],
      "metadata": {
        "colab": {
          "base_uri": "https://localhost:8080/"
        },
        "id": "-xN0Em7xc8a5",
        "outputId": "1338f7a7-4249-4242-92d1-fcbba1637968"
      },
      "execution_count": 17,
      "outputs": [
        {
          "output_type": "stream",
          "name": "stdout",
          "text": [
            "NAME    MAJ:MIN RM  SIZE RO TYPE MOUNTPOINTS\n",
            "loop0     7:0    0  110G  0 loop \n",
            "sda       8:0    0   48G  0 disk \n",
            "├─sda1    8:1    0 43.8G  0 part /etc/hosts\n",
            "│                                /etc/hostname\n",
            "│                                /etc/resolv.conf\n",
            "├─sda2    8:2    0   16M  0 part \n",
            "├─sda3    8:3    0    2G  0 part \n",
            "├─sda4    8:4    0   16M  0 part \n",
            "├─sda5    8:5    0    2G  0 part \n",
            "├─sda6    8:6    0  512B  0 part \n",
            "├─sda7    8:7    0  512B  0 part \n",
            "├─sda8    8:8    0   16M  0 part \n",
            "├─sda9    8:9    0  512B  0 part \n",
            "├─sda10   8:10   0  512B  0 part \n",
            "├─sda11   8:11   0    8M  0 part \n",
            "└─sda12   8:12   0   32M  0 part \n",
            "\n",
            "\n",
            "\n",
            "\n",
            "/dev/sda1 on /etc/resolv.conf type ext4 (rw,nosuid,nodev,relatime,commit=30)\n",
            "/dev/sda1 on /etc/hostname type ext4 (rw,nosuid,nodev,relatime,commit=30)\n",
            "/dev/sda1 on /etc/hosts type ext4 (rw,nosuid,nodev,relatime,commit=30)\n",
            "\n",
            "\n",
            "\n",
            "\n"
          ]
        }
      ]
    }
  ]
}